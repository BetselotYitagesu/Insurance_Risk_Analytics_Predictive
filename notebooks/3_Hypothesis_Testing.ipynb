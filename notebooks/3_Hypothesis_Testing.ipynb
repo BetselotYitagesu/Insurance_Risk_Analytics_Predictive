{
 "cells": [
  {
   "cell_type": "markdown",
   "id": "b263691e",
   "metadata": {},
   "source": [
    "# Insurance Risk Analytics - Task 3"
   ]
  },
  {
   "cell_type": "code",
   "execution_count": 1,
   "id": "2b691f5f",
   "metadata": {},
   "outputs": [
    {
     "name": "stderr",
     "output_type": "stream",
     "text": [
      "C:\\Users\\betsi\\AppData\\Local\\Temp\\ipykernel_11020\\4032127681.py:11: DtypeWarning: Columns (32) have mixed types. Specify dtype option on import or set low_memory=False.\n",
      "  df = pd.read_csv('E:/Tenx/Week 3/data/cleaned_insurance_data.csv')\n"
     ]
    },
    {
     "name": "stdout",
     "output_type": "stream",
     "text": [
      "(1000096, 47)\n"
     ]
    },
    {
     "data": {
      "text/html": [
       "<div>\n",
       "<style scoped>\n",
       "    .dataframe tbody tr th:only-of-type {\n",
       "        vertical-align: middle;\n",
       "    }\n",
       "\n",
       "    .dataframe tbody tr th {\n",
       "        vertical-align: top;\n",
       "    }\n",
       "\n",
       "    .dataframe thead th {\n",
       "        text-align: right;\n",
       "    }\n",
       "</style>\n",
       "<table border=\"1\" class=\"dataframe\">\n",
       "  <thead>\n",
       "    <tr style=\"text-align: right;\">\n",
       "      <th></th>\n",
       "      <th>UnderwrittenCoverID</th>\n",
       "      <th>PolicyID</th>\n",
       "      <th>TransactionMonth</th>\n",
       "      <th>IsVATRegistered</th>\n",
       "      <th>Citizenship</th>\n",
       "      <th>LegalType</th>\n",
       "      <th>Title</th>\n",
       "      <th>Language</th>\n",
       "      <th>Bank</th>\n",
       "      <th>AccountType</th>\n",
       "      <th>...</th>\n",
       "      <th>ExcessSelected</th>\n",
       "      <th>CoverCategory</th>\n",
       "      <th>CoverType</th>\n",
       "      <th>CoverGroup</th>\n",
       "      <th>Section</th>\n",
       "      <th>Product</th>\n",
       "      <th>StatutoryClass</th>\n",
       "      <th>StatutoryRiskType</th>\n",
       "      <th>TotalPremium</th>\n",
       "      <th>TotalClaims</th>\n",
       "    </tr>\n",
       "  </thead>\n",
       "  <tbody>\n",
       "    <tr>\n",
       "      <th>0</th>\n",
       "      <td>145249</td>\n",
       "      <td>12827</td>\n",
       "      <td>2015-03-01</td>\n",
       "      <td>True</td>\n",
       "      <td></td>\n",
       "      <td>Close Corporation</td>\n",
       "      <td>Mr</td>\n",
       "      <td>English</td>\n",
       "      <td>First National Bank</td>\n",
       "      <td>Current account</td>\n",
       "      <td>...</td>\n",
       "      <td>Mobility - Windscreen</td>\n",
       "      <td>Windscreen</td>\n",
       "      <td>Windscreen</td>\n",
       "      <td>Comprehensive - Taxi</td>\n",
       "      <td>Motor Comprehensive</td>\n",
       "      <td>Mobility Metered Taxis: Monthly</td>\n",
       "      <td>Commercial</td>\n",
       "      <td>IFRS Constant</td>\n",
       "      <td>21.929825</td>\n",
       "      <td>0.0</td>\n",
       "    </tr>\n",
       "    <tr>\n",
       "      <th>1</th>\n",
       "      <td>145249</td>\n",
       "      <td>12827</td>\n",
       "      <td>2015-05-01</td>\n",
       "      <td>True</td>\n",
       "      <td></td>\n",
       "      <td>Close Corporation</td>\n",
       "      <td>Mr</td>\n",
       "      <td>English</td>\n",
       "      <td>First National Bank</td>\n",
       "      <td>Current account</td>\n",
       "      <td>...</td>\n",
       "      <td>Mobility - Windscreen</td>\n",
       "      <td>Windscreen</td>\n",
       "      <td>Windscreen</td>\n",
       "      <td>Comprehensive - Taxi</td>\n",
       "      <td>Motor Comprehensive</td>\n",
       "      <td>Mobility Metered Taxis: Monthly</td>\n",
       "      <td>Commercial</td>\n",
       "      <td>IFRS Constant</td>\n",
       "      <td>21.929825</td>\n",
       "      <td>0.0</td>\n",
       "    </tr>\n",
       "    <tr>\n",
       "      <th>2</th>\n",
       "      <td>145249</td>\n",
       "      <td>12827</td>\n",
       "      <td>2015-07-01</td>\n",
       "      <td>True</td>\n",
       "      <td></td>\n",
       "      <td>Close Corporation</td>\n",
       "      <td>Mr</td>\n",
       "      <td>English</td>\n",
       "      <td>First National Bank</td>\n",
       "      <td>Current account</td>\n",
       "      <td>...</td>\n",
       "      <td>Mobility - Windscreen</td>\n",
       "      <td>Windscreen</td>\n",
       "      <td>Windscreen</td>\n",
       "      <td>Comprehensive - Taxi</td>\n",
       "      <td>Motor Comprehensive</td>\n",
       "      <td>Mobility Metered Taxis: Monthly</td>\n",
       "      <td>Commercial</td>\n",
       "      <td>IFRS Constant</td>\n",
       "      <td>0.000000</td>\n",
       "      <td>0.0</td>\n",
       "    </tr>\n",
       "    <tr>\n",
       "      <th>3</th>\n",
       "      <td>145255</td>\n",
       "      <td>12827</td>\n",
       "      <td>2015-05-01</td>\n",
       "      <td>True</td>\n",
       "      <td></td>\n",
       "      <td>Close Corporation</td>\n",
       "      <td>Mr</td>\n",
       "      <td>English</td>\n",
       "      <td>First National Bank</td>\n",
       "      <td>Current account</td>\n",
       "      <td>...</td>\n",
       "      <td>Mobility - Metered Taxis - R2000</td>\n",
       "      <td>Own damage</td>\n",
       "      <td>Own Damage</td>\n",
       "      <td>Comprehensive - Taxi</td>\n",
       "      <td>Motor Comprehensive</td>\n",
       "      <td>Mobility Metered Taxis: Monthly</td>\n",
       "      <td>Commercial</td>\n",
       "      <td>IFRS Constant</td>\n",
       "      <td>512.848070</td>\n",
       "      <td>0.0</td>\n",
       "    </tr>\n",
       "    <tr>\n",
       "      <th>4</th>\n",
       "      <td>145255</td>\n",
       "      <td>12827</td>\n",
       "      <td>2015-07-01</td>\n",
       "      <td>True</td>\n",
       "      <td></td>\n",
       "      <td>Close Corporation</td>\n",
       "      <td>Mr</td>\n",
       "      <td>English</td>\n",
       "      <td>First National Bank</td>\n",
       "      <td>Current account</td>\n",
       "      <td>...</td>\n",
       "      <td>Mobility - Metered Taxis - R2000</td>\n",
       "      <td>Own damage</td>\n",
       "      <td>Own Damage</td>\n",
       "      <td>Comprehensive - Taxi</td>\n",
       "      <td>Motor Comprehensive</td>\n",
       "      <td>Mobility Metered Taxis: Monthly</td>\n",
       "      <td>Commercial</td>\n",
       "      <td>IFRS Constant</td>\n",
       "      <td>0.000000</td>\n",
       "      <td>0.0</td>\n",
       "    </tr>\n",
       "  </tbody>\n",
       "</table>\n",
       "<p>5 rows × 47 columns</p>\n",
       "</div>"
      ],
      "text/plain": [
       "   UnderwrittenCoverID  PolicyID TransactionMonth  IsVATRegistered  \\\n",
       "0               145249     12827       2015-03-01             True   \n",
       "1               145249     12827       2015-05-01             True   \n",
       "2               145249     12827       2015-07-01             True   \n",
       "3               145255     12827       2015-05-01             True   \n",
       "4               145255     12827       2015-07-01             True   \n",
       "\n",
       "  Citizenship          LegalType Title Language                 Bank  \\\n",
       "0              Close Corporation    Mr  English  First National Bank   \n",
       "1              Close Corporation    Mr  English  First National Bank   \n",
       "2              Close Corporation    Mr  English  First National Bank   \n",
       "3              Close Corporation    Mr  English  First National Bank   \n",
       "4              Close Corporation    Mr  English  First National Bank   \n",
       "\n",
       "       AccountType  ...                    ExcessSelected CoverCategory  \\\n",
       "0  Current account  ...             Mobility - Windscreen    Windscreen   \n",
       "1  Current account  ...             Mobility - Windscreen    Windscreen   \n",
       "2  Current account  ...             Mobility - Windscreen    Windscreen   \n",
       "3  Current account  ...  Mobility - Metered Taxis - R2000    Own damage   \n",
       "4  Current account  ...  Mobility - Metered Taxis - R2000    Own damage   \n",
       "\n",
       "    CoverType            CoverGroup              Section  \\\n",
       "0  Windscreen  Comprehensive - Taxi  Motor Comprehensive   \n",
       "1  Windscreen  Comprehensive - Taxi  Motor Comprehensive   \n",
       "2  Windscreen  Comprehensive - Taxi  Motor Comprehensive   \n",
       "3  Own Damage  Comprehensive - Taxi  Motor Comprehensive   \n",
       "4  Own Damage  Comprehensive - Taxi  Motor Comprehensive   \n",
       "\n",
       "                           Product StatutoryClass StatutoryRiskType  \\\n",
       "0  Mobility Metered Taxis: Monthly     Commercial     IFRS Constant   \n",
       "1  Mobility Metered Taxis: Monthly     Commercial     IFRS Constant   \n",
       "2  Mobility Metered Taxis: Monthly     Commercial     IFRS Constant   \n",
       "3  Mobility Metered Taxis: Monthly     Commercial     IFRS Constant   \n",
       "4  Mobility Metered Taxis: Monthly     Commercial     IFRS Constant   \n",
       "\n",
       "   TotalPremium TotalClaims  \n",
       "0     21.929825         0.0  \n",
       "1     21.929825         0.0  \n",
       "2      0.000000         0.0  \n",
       "3    512.848070         0.0  \n",
       "4      0.000000         0.0  \n",
       "\n",
       "[5 rows x 47 columns]"
      ]
     },
     "execution_count": 1,
     "metadata": {},
     "output_type": "execute_result"
    }
   ],
   "source": [
    "# Load and Prepare the data \n",
    "# 1. Imports\n",
    "import pandas as pd\n",
    "import numpy as np\n",
    "import seaborn as sns\n",
    "import matplotlib.pyplot as plt\n",
    "from scipy import stats\n",
    "from datetime import datetime\n",
    "\n",
    "# 2. Load the data\n",
    "df = pd.read_csv('E:/Tenx/Week 3/data/cleaned_insurance_data.csv')\n",
    "\n",
    "# 3. Preview\n",
    "print(df.shape)\n",
    "df.head()\n"
   ]
  },
  {
   "cell_type": "code",
   "execution_count": 2,
   "id": "9ab0a532",
   "metadata": {},
   "outputs": [
    {
     "data": {
      "text/html": [
       "<div>\n",
       "<style scoped>\n",
       "    .dataframe tbody tr th:only-of-type {\n",
       "        vertical-align: middle;\n",
       "    }\n",
       "\n",
       "    .dataframe tbody tr th {\n",
       "        vertical-align: top;\n",
       "    }\n",
       "\n",
       "    .dataframe thead th {\n",
       "        text-align: right;\n",
       "    }\n",
       "</style>\n",
       "<table border=\"1\" class=\"dataframe\">\n",
       "  <thead>\n",
       "    <tr style=\"text-align: right;\">\n",
       "      <th></th>\n",
       "      <th>ClaimFrequency</th>\n",
       "      <th>ClaimSeverity</th>\n",
       "      <th>Margin</th>\n",
       "    </tr>\n",
       "  </thead>\n",
       "  <tbody>\n",
       "    <tr>\n",
       "      <th>count</th>\n",
       "      <td>1.000096e+06</td>\n",
       "      <td>2788.000000</td>\n",
       "      <td>1.000096e+06</td>\n",
       "    </tr>\n",
       "    <tr>\n",
       "      <th>mean</th>\n",
       "      <td>2.787732e-03</td>\n",
       "      <td>23273.387063</td>\n",
       "      <td>-2.955787e+00</td>\n",
       "    </tr>\n",
       "    <tr>\n",
       "      <th>std</th>\n",
       "      <td>5.272536e-02</td>\n",
       "      <td>38719.512597</td>\n",
       "      <td>2.367139e+03</td>\n",
       "    </tr>\n",
       "    <tr>\n",
       "      <th>min</th>\n",
       "      <td>0.000000e+00</td>\n",
       "      <td>139.043860</td>\n",
       "      <td>-3.928486e+05</td>\n",
       "    </tr>\n",
       "    <tr>\n",
       "      <th>25%</th>\n",
       "      <td>0.000000e+00</td>\n",
       "      <td>1680.728070</td>\n",
       "      <td>0.000000e+00</td>\n",
       "    </tr>\n",
       "    <tr>\n",
       "      <th>50%</th>\n",
       "      <td>0.000000e+00</td>\n",
       "      <td>6140.350877</td>\n",
       "      <td>2.157654e+00</td>\n",
       "    </tr>\n",
       "    <tr>\n",
       "      <th>75%</th>\n",
       "      <td>0.000000e+00</td>\n",
       "      <td>30480.991228</td>\n",
       "      <td>2.192982e+01</td>\n",
       "    </tr>\n",
       "    <tr>\n",
       "      <th>max</th>\n",
       "      <td>1.000000e+00</td>\n",
       "      <td>393092.105263</td>\n",
       "      <td>6.528260e+04</td>\n",
       "    </tr>\n",
       "  </tbody>\n",
       "</table>\n",
       "</div>"
      ],
      "text/plain": [
       "       ClaimFrequency  ClaimSeverity        Margin\n",
       "count    1.000096e+06    2788.000000  1.000096e+06\n",
       "mean     2.787732e-03   23273.387063 -2.955787e+00\n",
       "std      5.272536e-02   38719.512597  2.367139e+03\n",
       "min      0.000000e+00     139.043860 -3.928486e+05\n",
       "25%      0.000000e+00    1680.728070  0.000000e+00\n",
       "50%      0.000000e+00    6140.350877  2.157654e+00\n",
       "75%      0.000000e+00   30480.991228  2.192982e+01\n",
       "max      1.000000e+00  393092.105263  6.528260e+04"
      ]
     },
     "execution_count": 2,
     "metadata": {},
     "output_type": "execute_result"
    }
   ],
   "source": [
    "# **** Data Cleaning & Metric Engineering\n",
    "\n",
    "# Claim Frequency (binary)\n",
    "df['ClaimFrequency'] = (df['TotalClaims'] > 0).astype(int)\n",
    "\n",
    "# Claim Severity (only if a claim exists)\n",
    "df['ClaimSeverity'] = df['TotalClaims']\n",
    "df.loc[df['ClaimFrequency'] == 0, 'ClaimSeverity'] = np.nan\n",
    "\n",
    "# Margin (Profit)\n",
    "df['Margin'] = df['TotalPremium'] - df['TotalClaims']\n",
    "\n",
    "df[['ClaimFrequency', 'ClaimSeverity', 'Margin']].describe()\n"
   ]
  },
  {
   "cell_type": "markdown",
   "id": "805aea40",
   "metadata": {},
   "source": [
    "### Null Hypotheses to Test\n",
    "\n",
    "H₀₁: There are no risk differences across provinces.  \n",
    "H₀₂: There are no risk differences between zip codes.  \n",
    "H₀₃: There are no significant margin differences between zip codes.  \n",
    "H₀₄: There are no significant risk differences between women and men.\n"
   ]
  },
  {
   "cell_type": "code",
   "execution_count": 3,
   "id": "138211ce",
   "metadata": {},
   "outputs": [
    {
     "name": "stdout",
     "output_type": "stream",
     "text": [
      "ANOVA p-value for Claim Frequency across Provinces: 0.0000\n"
     ]
    }
   ],
   "source": [
    "# 1. Test: Risk Differences Across Provinces\n",
    "# Filter groups\n",
    "grouped = df.groupby('Province')\n",
    "\n",
    "# Compare mean ClaimFrequency between provinces using ANOVA\n",
    "anova_result = stats.f_oneway(*[group['ClaimFrequency'].dropna() for name, group in grouped])\n",
    "print(f\"ANOVA p-value for Claim Frequency across Provinces: {anova_result.pvalue:.4f}\")\n"
   ]
  },
  {
   "cell_type": "code",
   "execution_count": 6,
   "id": "5aea961c",
   "metadata": {},
   "outputs": [
    {
     "name": "stdout",
     "output_type": "stream",
     "text": [
      "ANOVA p-value for Claim Frequency across Top 10 PostalCodes: 0.0000\n"
     ]
    }
   ],
   "source": [
    "# 2. Test: Risk Differences Between Zip Codes\n",
    "\n",
    "top_zipcodes = df['PostalCode'].value_counts().nlargest(10).index\n",
    "zip_subset = df[df['PostalCode'].isin(top_zipcodes)]\n",
    "\n",
    "zip_grouped = zip_subset.groupby('PostalCode')\n",
    "anova_result = stats.f_oneway(*[group['ClaimFrequency'].dropna() for name, group in zip_grouped])\n",
    "print(f\"ANOVA p-value for Claim Frequency across Top 10 PostalCodes: {anova_result.pvalue:.4f}\")\n"
   ]
  },
  {
   "cell_type": "code",
   "execution_count": 7,
   "id": "2b9a8443",
   "metadata": {},
   "outputs": [
    {
     "name": "stdout",
     "output_type": "stream",
     "text": [
      "ANOVA p-value for Margin across Top 10 ZipCodes: 0.3964\n"
     ]
    }
   ],
   "source": [
    "# 3. Test: Margin Difference Between Zip Codes\n",
    "\n",
    "anova_margin = stats.f_oneway(*[group['Margin'].dropna() for name, group in zip_grouped])\n",
    "print(f\"ANOVA p-value for Margin across Top 10 ZipCodes: {anova_margin.pvalue:.4f}\")\n"
   ]
  },
  {
   "cell_type": "code",
   "execution_count": 8,
   "id": "b1a67ecf",
   "metadata": {},
   "outputs": [
    {
     "name": "stdout",
     "output_type": "stream",
     "text": [
      "T-test p-value for Gender Claim Frequency difference: 0.8372\n"
     ]
    }
   ],
   "source": [
    "# 4 Test: Risk Difference Between Women and Men\n",
    "\n",
    "male = df[df['Gender'] == 'Male']['ClaimFrequency']\n",
    "female = df[df['Gender'] == 'Female']['ClaimFrequency']\n",
    "\n",
    "t_result = stats.ttest_ind(male.dropna(), female.dropna(), equal_var=False)\n",
    "print(f\"T-test p-value for Gender Claim Frequency difference: {t_result.pvalue:.4f}\")\n"
   ]
  },
  {
   "cell_type": "markdown",
   "id": "ecb08561",
   "metadata": {},
   "source": [
    "### Visualize Key Insights "
   ]
  },
  {
   "cell_type": "code",
   "execution_count": 9,
   "id": "03c509cf",
   "metadata": {},
   "outputs": [
    {
     "data": {
      "image/png": "[encoded data removed]",
      "text/plain": [
       "<Figure size 640x480 with 1 Axes>"
      ]
     },
     "metadata": {},
     "output_type": "display_data"
    }
   ],
   "source": [
    "sns.barplot(data=df, x='Province', y='ClaimFrequency')\n",
    "plt.xticks(rotation=45)\n",
    "plt.title('Average Claim Frequency by Province')\n",
    "plt.tight_layout()\n",
    "plt.show()\n"
   ]
  },
  {
   "cell_type": "markdown",
   "id": "827ee545",
   "metadata": {},
   "source": [
    "### H₀₁: There are no risk differences across provinces.\n",
    "\n",
    "- **Test Used**: ANOVA\n",
    "- **p-value** = 0.0000\n",
    "\n",
    "🔍 **Interpretation**: The p-value is far below the standard significance level of 0.05.\n",
    "\n",
    "📉 **Conclusion**: We **reject the null hypothesis**. This means there is strong statistical evidence that **claim frequency significantly varies across provinces**.\n",
    "\n",
    "💡 **Business Implication**: Premium pricing and risk models should account for **provincial-level risk variations**. Consider geographic-based segmentation strategies for risk adjustment.\n"
   ]
  },
  {
   "cell_type": "markdown",
   "id": "b5486a7a",
   "metadata": {},
   "source": [
    "### H₀₂: There are no risk differences between zip codes.\n",
    "\n",
    "- **Test Used**: ANOVA (Top 10 Zip Codes)\n",
    "- **p-value** = 0.0000\n",
    "\n",
    "🔍 **Interpretation**: The p-value is also significantly below 0.05.\n",
    "\n",
    "📉 **Conclusion**: We **reject the null hypothesis**. There is strong evidence that **claim frequency varies significantly between zip codes**.\n",
    "\n",
    "💡 **Business Implication**: Zip code can be a **granular predictor of claim risk**. Consider incorporating it into underwriting or fraud detection models.\n"
   ]
  },
  {
   "cell_type": "markdown",
   "id": "1959f702",
   "metadata": {},
   "source": [
    "### H₀₃: There are no significant margin differences between zip codes.\n",
    "\n",
    "- **Test Used**: ANOVA (Top 10 Zip Codes)\n",
    "- **p-value** = 0.3964\n",
    "\n",
    "🔍 **Interpretation**: The p-value is **greater than 0.05**, indicating insufficient evidence to reject the null.\n",
    "\n",
    "📈 **Conclusion**: We **fail to reject the null hypothesis**. There is **no statistically significant difference** in average margins between zip codes.\n",
    "\n",
    "💡 **Business Implication**: While claim risk varies, **profitability (margin) appears more uniform** across zip codes. Focus on **other factors** like customer demographics or product mix to explain margin variation.\n"
   ]
  },
  {
   "cell_type": "markdown",
   "id": "e4b10525",
   "metadata": {},
   "source": [
    "### H₀₄: There are no significant risk differences between women and men.\n",
    "\n",
    "- **Test Used**: T-test\n",
    "- **p-value** = 0.8372\n",
    "\n",
    "🔍 **Interpretation**: The p-value is far **above 0.05**, indicating no significant difference.\n",
    "\n",
    "📈 **Conclusion**: We **fail to reject the null hypothesis**. There is **no statistical evidence** that claim frequency differs between genders.\n",
    "\n",
    "💡 **Business Implication**: Gender may not be a strong predictor of claim risk in this dataset. Consider focusing on **geographic or policy-related variables** instead.\n"
   ]
  }
 ],
 "metadata": {
  "kernelspec": {
   "display_name": "venv",
   "language": "python",
   "name": "python3"
  },
  "language_info": {
   "codemirror_mode": {
    "name": "ipython",
    "version": 3
   },
   "file_extension": ".py",
   "mimetype": "text/x-python",
   "name": "python",
   "nbconvert_exporter": "python",
   "pygments_lexer": "ipython3",
   "version": "3.13.3"
  }
 },
 "nbformat": 4,
 "nbformat_minor": 5
}
